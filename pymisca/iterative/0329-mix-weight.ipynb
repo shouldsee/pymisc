{
 "cells": [
  {
   "cell_type": "code",
   "execution_count": 162,
   "metadata": {},
   "outputs": [],
   "source": [
    "# import pymisca.ext as pyext\n",
    "\n",
    "from pymisca.iterative.base import getTraj\n",
    "import pymisca.numpy_extra as pynp\n",
    "\n",
    "import numpy as np\n",
    "import pymisca.oop as pyop\n",
    "\n",
    "from pymisca.ext import entropise\n",
    "pynp.entropise = entropise\n",
    "\n",
    "\n",
    "def entropise_weight(\n",
    "    Y,X0=None,\n",
    "    eps=1E-10,\n",
    "    **kwargs\n",
    "):\n",
    "    '''\n",
    "    Author: Feng Geng\n",
    "    X: numpy.ndarray (i,j)\n",
    "    Y: numpy.ndarray (i,k)\n",
    "    S0: numpy.ndarray (j,k)\n",
    "    \n",
    "    Minimise the hellinger distance between Y and X \\cdot S\n",
    "    non-negative matrices x_{ij}, y_{ik}, s_{jk} with constraints\n",
    "    \\sum_j x_{ij} = 1\n",
    "    \\sum_k y_{ik} = 1\n",
    "    \\sum_k s_{jk} = 1 \n",
    "    minimise  E = - \\sum_{i,k} \\sqrt{ \\sum_j x_{ij} y_{ik} s_{jk} } \n",
    "    by iteratively setting \n",
    "    \\sqrt{ s_{jk} } = d E / d \\sqrt{ s_{jk} }\n",
    "    in a normalised fashion\n",
    "    '''\n",
    "#     dx,dy = S.shape\n",
    "#     N,dy = Y.shape\n",
    "#     size = (N,dx)\n",
    "    Y = np.array(Y)\n",
    "    Y = pynp.arr__rowNorm(Y)\n",
    "\n",
    "    size = Y.shape\n",
    "    \n",
    "    #### re-alias\n",
    "#     X0 \n",
    "#     S_ = S\n",
    "    \n",
    "    \n",
    "    def step(X):\n",
    "        '''\n",
    "        Core iterative update\n",
    "        '''\n",
    "#         R = np.sqrt(S)\n",
    "#         print X.shape\n",
    "        gamma = np.sqrt(X)\n",
    "        A = gamma * 2 * np.log(gamma) + gamma + 1\n",
    "        grad = Y * A\n",
    "#         print grad.shape\n",
    "#         C = X.dot(S_)\n",
    "#         A = np.sqrt(Y/(C + eps) )\n",
    "#         grad = A.dot(S_.T) * np.sqrt(X)\n",
    "        X = pynp.arr__rowNorm(grad**2)\n",
    "        return X\n",
    "    \n",
    "    def lossFunc(S):\n",
    "#         S = S**2\n",
    "        x = pynp.entropise(S,axis=1)\n",
    "        H = x.sum(axis=1,keepdims=1)\n",
    "        ll =  -H + np.log(S)\n",
    "        ll = ll * Y\n",
    "        ll = ll.mean()\n",
    "#         print ll\n",
    "        return ll\n",
    "    \n",
    "#     def lossFunc(S):\n",
    "#         ll = pynp.distance__hellinger(Y, S.dot(S_))\n",
    "#         return  ll\n",
    "    # dx,dy=size\n",
    "    if X0 is None:\n",
    "        X0 = np.random.random(size=size)\n",
    "#         S0 = randMat(N=dx,d=dy)\n",
    "    X0 = pynp.arr__rowNorm(X0)\n",
    "        \n",
    "    res = getTraj(step,\n",
    "                  X0,\n",
    "                  lossFunc=lossFunc,\n",
    "                  **kwargs)\n",
    "    return res\n",
    "main = entropise_weight"
   ]
  },
  {
   "cell_type": "code",
   "execution_count": null,
   "metadata": {},
   "outputs": [],
   "source": []
  },
  {
   "cell_type": "code",
   "execution_count": 36,
   "metadata": {},
   "outputs": [
    {
     "data": {
      "text/plain": [
       "array([[0.01113361, 0.00251673, 0.98634966]])"
      ]
     },
     "execution_count": 36,
     "metadata": {},
     "output_type": "execute_result"
    }
   ],
   "source": [
    "res.last"
   ]
  },
  {
   "cell_type": "code",
   "execution_count": 159,
   "metadata": {},
   "outputs": [
    {
     "name": "stdout",
     "output_type": "stream",
     "text": [
      "[[0.00217391 0.02391304 0.04565217 0.0673913  0.08913043 0.11086957\n",
      "  0.1326087  0.15434783 0.17608696 0.19782609]]\n",
      "[STOP]Failed to converge\n",
      "[[3.08343951e-05 2.36442323e-03 6.80991330e-03 1.27035387e-02\n",
      "  1.99655650e-02 2.87721466e-02 3.95451132e-02 5.30920775e-02\n",
      "  7.10364111e-02 7.65679977e-01]]\n"
     ]
    },
    {
     "data": {
      "image/png": "[encoded data removed]",
      "text/plain": [
       "<Figure size 432x288 with 1 Axes>"
      ]
     },
     "metadata": {},
     "output_type": "display_data"
    }
   ],
   "source": [
    "# Y = [[1, 0.4, 3., 0.7]]\n",
    "# Y = np.random.random((1,9))\n",
    "Y = [np.arange(10)+0.1]\n",
    "Y = np.array(Y)\n",
    "Y = pynp.arr__rowNorm(Y)\n",
    "print Y\n",
    "res = main(Y,speedTol=0.)\n",
    "\n",
    "plt.plot(res.hist['loss'],)\n",
    "\n",
    "print res.last"
   ]
  },
  {
   "cell_type": "code",
   "execution_count": 160,
   "metadata": {},
   "outputs": [
    {
     "data": {
      "text/plain": [
       "[<matplotlib.lines.Line2D at 0x7f6a436eff10>]"
      ]
     },
     "execution_count": 160,
     "metadata": {},
     "output_type": "execute_result"
    },
    {
     "data": {
      "image/png": "[encoded data removed]",
      "text/plain": [
       "<Figure size 432x288 with 1 Axes>"
      ]
     },
     "metadata": {},
     "output_type": "display_data"
    }
   ],
   "source": [
    "plt.figure()\n",
    "plt.plot(Y.ravel())\n",
    "plt.plot(res.last.ravel())"
   ]
  },
  {
   "cell_type": "code",
   "execution_count": 18,
   "metadata": {},
   "outputs": [],
   "source": [
    "import pymisca.vis_util as pyvis\n",
    "plt = pyvis.plt\n"
   ]
  },
  {
   "cell_type": "code",
   "execution_count": 161,
   "metadata": {},
   "outputs": [],
   "source": [
    "??pyext.entropise"
   ]
  }
 ],
 "metadata": {
  "kernelspec": {
   "display_name": "Python 2",
   "language": "python",
   "name": "python2"
  },
  "language_info": {
   "codemirror_mode": {
    "name": "ipython",
    "version": 2
   },
   "file_extension": ".py",
   "mimetype": "text/x-python",
   "name": "python",
   "nbconvert_exporter": "python",
   "pygments_lexer": "ipython2",
   "version": "2.7.12"
  }
 },
 "nbformat": 4,
 "nbformat_minor": 2
}
