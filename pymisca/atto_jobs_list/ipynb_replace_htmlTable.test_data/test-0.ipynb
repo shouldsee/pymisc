{
 "cells": [
  {
   "cell_type": "code",
   "execution_count": 4,
   "metadata": {},
   "outputs": [
    {
     "name": "stdout",
     "output_type": "stream",
     "text": [
      "/work/mapped-data/G00000002\n"
     ]
    },
    {
     "data": {
      "text/html": [
       "<table border=\"1\" id=\"meta-file-table\">\n",
       "            <thead>\n",
       "    <tr>\n",
       "        \n",
       "         <td>LINE_COUNT</td>\n",
       "        \n",
       "         <td>FILE_ACC_HTML</td>\n",
       "        \n",
       "         <td>PURPOSE</td>\n",
       "        \n",
       "         <td>FULL_PATH</td>\n",
       "        \n",
       "         <td>SIZE</td>\n",
       "        \n",
       "    </tr>\n",
       "    </thead>\n",
       "            \n",
       "            \n",
       "    <tr>\n",
       "        \n",
       "         <td>NA</td>\n",
       "        \n",
       "         <td><a href=\"OUTPUT/GENOME.fasta\">OUTPUT/GENOME.fasta</a></td>\n",
       "        \n",
       "         <td>[IGV->LoadGenomeFromURL] genomic fasta</td>\n",
       "        \n",
       "         <td>/work/mapped-data/G00000002/OUTPUT/GENOME.fasta</td>\n",
       "        \n",
       "         <td>2.59GB</td>\n",
       "        \n",
       "    </tr>\n",
       "    \n",
       "            </table>"
      ],
      "text/plain": [
       "<IPython.core.display.HTML object>"
      ]
     },
     "execution_count": 4,
     "metadata": {},
     "output_type": "execute_result"
    }
   ],
   "source": [
    "pyext.pd.set_option('display.max_colwidth',500)\n",
    "# pyext.dir__indexify(\"/work/reference-database/salmonella-typhimurium/G00000001/\")[['FILEACC']].reset_index(drop=1)\n",
    "buf = '''\n",
    "FILE_ACC,PURPOSE,FULL_PATH\n",
    "OUTPUT/GENOME.fasta,[IGV->LoadGenomeFromURL] genomic fasta,\n",
    "\n",
    "'''\n",
    "\n",
    "import path\n",
    "df = pyext.read__buffer(buf,ext='csv',guess_index=0)\n",
    "# df = df.sort_values(by=df['PURPOSE'].str[:3].tolist())\n",
    "# OUTDIR = \"/work/reference-database/salmonella-typhimurium/G00000001\"\n",
    "\n",
    "print OUTDIR\n",
    "it = pyext.validate__fileTable(df,OUTDIR)\n",
    "# it = pyext.validate__fileTable(df,\"/work/reports/G00000002/\")\n",
    "[(d.pop('index',None),) for d in it]\n",
    "[(d.pop('FILE_ACC',None),) for d in it]\n",
    "pyext.ipd.HTML(pyext.dicts__toHtmlTable(it,attrs={\"border\":1,\"id\":\"meta-file-table\"}))\n",
    "# pyext.ipd.HTML(pyext.rows__toTable(map(pyext.list__toHtmlRow,[x.values() for x in it])))"
   ]
  }
 ],
 "metadata": {
  "kernelspec": {
   "display_name": "Python 2",
   "language": "python2",
   "name": "python2"
  },
  "language_info": {
   "codemirror_mode": {
    "name": "ipython",
    "version": 2
   },
   "file_extension": ".py",
   "mimetype": "text/x-python",
   "name": "python",
   "nbconvert_exporter": "python",
   "pygments_lexer": "ipython2",
   "version": "2.7.15+"
  }
 },
 "nbformat": 4,
 "nbformat_minor": 2
}
